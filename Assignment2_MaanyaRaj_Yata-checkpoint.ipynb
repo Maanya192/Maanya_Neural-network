{
 "cells": [
  {
   "cell_type": "code",
   "execution_count": null,
   "id": "2eb7bd48-f59f-4201-9336-a1604d47ba2d",
   "metadata": {},
   "outputs": [],
   "source": [
    "1.Write a program that takes two strings from the user: first_name, last_name. Pass these variables to fullname function that should return the (full name).\n",
    "For example:\n",
    "▪First_name = “your first name”, last_name = “your last name”\n",
    "▪Full_name = “your full name”\n",
    "Write function named “string_alternative” that returns every other char in the full_name string. Str = “Good evening”\n",
    "Output: Go vnn\n",
    "Note: You need to create a function named “string_alternative” for this program and call it from main function."
   ]
  },
  {
   "cell_type": "code",
   "execution_count": 1,
   "id": "9e1b38e3-57ca-4cbc-b3eb-0c26959a2191",
   "metadata": {},
   "outputs": [
    {
     "name": "stdin",
     "output_type": "stream",
     "text": [
      " MaanyaRaj\n",
      " Yata\n"
     ]
    },
    {
     "name": "stdout",
     "output_type": "stream",
     "text": [
      "MaanyaRaj Yata\n",
      "MayRjYt\n"
     ]
    }
   ],
   "source": [
    "def fullname(first,last):\n",
    "  str=first+\" \"+last\n",
    "  return str\n",
    "def string_alternative(final):\n",
    "  newstr=final[::2]\n",
    "  return newstr\n",
    "first=input()\n",
    "last=input()\n",
    "final=fullname(first,last)\n",
    "print(final)\n",
    "alternate=string_alternative(final)\n",
    "print(alternate)"
   ]
  },
  {
   "cell_type": "code",
   "execution_count": null,
   "id": "50a0e86a-569e-4223-8bd9-9a0bc34175a1",
   "metadata": {},
   "outputs": [],
   "source": [
    "2.Write a python program to find the wordcount in a file (input.txt) for each line and then print the output.\n",
    "Finally store the output in output.txt file. Example:\n",
    "Input: a file includes two lines:\n",
    "Python Course\n",
    "Deep Learning Course\n",
    "Output:\n",
    "Python Course\n",
    "Deep Learning Course Word_Count:\n",
    "Python: 1\n",
    "Course: 2\n",
    "Deep: 1\n",
    "Learning: 1"
   ]
  },
  {
   "cell_type": "code",
   "execution_count": 5,
   "id": "5123550a-8696-4a20-9e39-50fc1400b610",
   "metadata": {},
   "outputs": [],
   "source": [
    "file1 = open(\"C:/Users/ansan/.ipynb_checkpoints/input.txt\",\"r\")\n",
    "string=file1.read()\n",
    "file2 = open(\"C:/Users/ansan/.ipynb_checkpoints/output.txt\",\"w+\")\n",
    "words= dict()\n",
    "sep_words= string.split()\n",
    "for i in sep_words:\n",
    "        if i in words:\n",
    "            words[i] += 1\n",
    "        else:\n",
    "            words[i] = 1\n",
    "file2.write(\"Word_Count: \"+str(words))\n",
    "\n",
    "file2.close()"
   ]
  },
  {
   "cell_type": "code",
   "execution_count": null,
   "id": "e2deacba-c854-4076-8976-e52ab28fecaf",
   "metadata": {},
   "outputs": [],
   "source": [
    "3.Write a program, which reads heights (inches.) of customers into a list and convert these heights to centimeters in a separate list using:\n",
    "1)Nested Interactive loop.\n",
    "2)List comprehensions\n",
    "Example: L1: [150,155, 145, 148]\n",
    "Output: [68.03, 70.3, 65.77, 67.13]"
   ]
  },
  {
   "cell_type": "code",
   "execution_count": null,
   "id": "e17692a4-2841-46e3-bece-762b4afb4ac6",
   "metadata": {},
   "outputs": [],
   "source": [
    "1)Nested Interactive loop."
   ]
  },
  {
   "cell_type": "code",
   "execution_count": 8,
   "id": "7ade5ac5-049c-45f7-b8a8-3fdd84fedd5c",
   "metadata": {},
   "outputs": [
    {
     "name": "stdin",
     "output_type": "stream",
     "text": [
      "No of heights 4\n",
      " 150\n",
      " 155\n",
      " 145\n",
      " 148\n"
     ]
    },
    {
     "name": "stdout",
     "output_type": "stream",
     "text": [
      "[68.02721088435374, 70.29478458049887, 65.75963718820861, 67.12018140589569]\n"
     ]
    }
   ],
   "source": [
    "L=[]\n",
    "O=[]\n",
    "x=int(input(\"No of heights\"))\n",
    "for i in range(x):\n",
    "  L.append(float(input()))\n",
    "for j in range(x):\n",
    "  O.append(L[j]/2.205)\n",
    "print(O)"
   ]
  },
  {
   "cell_type": "code",
   "execution_count": null,
   "id": "57d08ff8-14c1-4dce-9dd7-9c5c821932e8",
   "metadata": {},
   "outputs": [],
   "source": [
    "2)List comprehensions"
   ]
  },
  {
   "cell_type": "code",
   "execution_count": 2,
   "id": "c37a116b-171d-4045-8364-c7399e040278",
   "metadata": {},
   "outputs": [
    {
     "name": "stdin",
     "output_type": "stream",
     "text": [
      " 4\n",
      " 150 155 145 148\n"
     ]
    },
    {
     "name": "stdout",
     "output_type": "stream",
     "text": [
      "[68.02721088435374, 70.29478458049887, 65.75963718820861, 67.12018140589569]\n"
     ]
    }
   ],
   "source": [
    "x=int(input())\n",
    "L=list(map(float, input().strip().split()))[:x]\n",
    "O = [i /2.205 for i in L]\n",
    "print(O)"
   ]
  },
  {
   "cell_type": "code",
   "execution_count": null,
   "id": "03314a64-75b3-4980-b8a8-bd905360677c",
   "metadata": {},
   "outputs": [],
   "source": []
  }
 ],
 "metadata": {
  "kernelspec": {
   "display_name": "Python 3 (ipykernel)",
   "language": "python",
   "name": "python3"
  },
  "language_info": {
   "codemirror_mode": {
    "name": "ipython",
    "version": 3
   },
   "file_extension": ".py",
   "mimetype": "text/x-python",
   "name": "python",
   "nbconvert_exporter": "python",
   "pygments_lexer": "ipython3",
   "version": "3.11.7"
  }
 },
 "nbformat": 4,
 "nbformat_minor": 5
}
